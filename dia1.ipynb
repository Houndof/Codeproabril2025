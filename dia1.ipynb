{
 "cells": [
  {
   "cell_type": "code",
   "execution_count": 1,
   "id": "ec5472ca",
   "metadata": {},
   "outputs": [
    {
     "name": "stdout",
     "output_type": "stream",
     "text": [
      "Hola Mundo\n"
     ]
    }
   ],
   "source": [
    "print(\"Hola Mundo\")"
   ]
  },
  {
   "cell_type": "markdown",
   "id": "86f92486",
   "metadata": {},
   "source": [
    "## Tipo de datos\n",
    "# int - interger - numeros enteros\n",
    "# float - floatin - decimales \n",
    "# str - string - \"palabras\"\n",
    "# bool - boolean - TRUE FALSE\n",
    "# Operaciones Arimeticas\n",
    "# suma +\n",
    "# resta -\n",
    "# division /\n",
    "# multiplicacion *\n",
    "# division entera //\n",
    "# Concatenacion union de todo tipo de caracteres\n",
    "# funciones bloque de codigo para realizar distintas tareas /grupo de algoritmos aislados para distintas tareas\n",
    "# definiciones de funciones\n",
    "# parametros y argumentos\n",
    "# scope o alcance"
   ]
  },
  {
   "cell_type": "code",
   "execution_count": null,
   "id": "e3528467",
   "metadata": {},
   "outputs": [],
   "source": []
  },
  {
   "cell_type": "code",
   "execution_count": null,
   "id": "f24e2f37",
   "metadata": {},
   "outputs": [
    {
     "name": "stdout",
     "output_type": "stream",
     "text": [
      "True\n"
     ]
    }
   ],
   "source": [
    "numero = 290487\n",
    "numero_decimal = 1.82\n",
    "nombre = \"Matias\"\n",
    "cajon_abierto = False\n",
    "cajon_cerrado = True\n",
    "print()"
   ]
  },
  {
   "cell_type": "code",
   "execution_count": 16,
   "id": "c317f491",
   "metadata": {},
   "outputs": [
    {
     "name": "stdout",
     "output_type": "stream",
     "text": [
      "35000\n",
      "30000\n",
      "76000\n",
      "5066\n"
     ]
    }
   ],
   "source": [
    "precio_total = 15000 + 20000       ## del uno al cuatro una suma normal\n",
    "print (precio_total)\n",
    "precio_descuento = precio_total - 5000\n",
    "print (precio_descuento)\n",
    "precio_gaseosa = 19000              ## del 5 al 10 calculo total de las gaseosas y precio por personas\n",
    "cantidad_gaseosas = 4\n",
    "cantidad_personas = 15\n",
    "costo_total = precio_gaseosa * cantidad_gaseosas\n",
    "print(costo_total)\n",
    "por_persona = costo_total // cantidad_personas\n",
    "print (por_persona)"
   ]
  },
  {
   "cell_type": "code",
   "execution_count": 46,
   "id": "fb340975",
   "metadata": {},
   "outputs": [
    {
     "name": "stdout",
     "output_type": "stream",
     "text": [
      "tengo 15 manzanas\n",
      "tengo 25 naranjas\n",
      "en total tengo 40 manzanas y naranjas\n",
      "vendi 25\n",
      "me quedan 15\n"
     ]
    }
   ],
   "source": [
    "## Primer challenge code pro\n",
    "cantidad_manzanas = 15\n",
    "print (f\"tengo {cantidad_manzanas} manzanas\")\n",
    "cantidad_naranjas =25\n",
    "print(f\"tengo {cantidad_naranjas} naranjas\")\n",
    "total_frutas = cantidad_manzanas + cantidad_naranjas\n",
    "print(f\"en total tengo {total_frutas} manzanas y naranjas\")\n",
    "frutas_vendidas = 25\n",
    "print(f\"vendi {frutas_vendidas}\")\n",
    "frutas_restantes = total_frutas - frutas_vendidas\n",
    "print (f\"me quedan {frutas_restantes}\")"
   ]
  },
  {
   "cell_type": "code",
   "execution_count": 48,
   "id": "9e69d239",
   "metadata": {},
   "outputs": [
    {
     "name": "stdout",
     "output_type": "stream",
     "text": [
      "Hola, mi nombre es Mati Portillo\n",
      "Hola, mi nombre es Mati Portillo\n"
     ]
    }
   ],
   "source": [
    "nombre = \"Mati\"\n",
    "apellido = \"Portillo\"\n",
    "espacio = \" \"\n",
    "saludo = \"Hola, mi nombre es\"\n",
    "nombrecompleto = saludo + espacio + nombre + espacio + apellido\n",
    "print(nombrecompleto)\n",
    "print(f\"Hola, mi nombre es {nombre} {apellido}\")"
   ]
  },
  {
   "cell_type": "markdown",
   "id": "1baddbb0",
   "metadata": {},
   "source": [
    "## Segundo challenge penguin\n"
   ]
  },
  {
   "cell_type": "code",
   "execution_count": null,
   "id": "79ce7571",
   "metadata": {},
   "outputs": [
    {
     "name": "stdout",
     "output_type": "stream",
     "text": [
      "Hola, soy Matias Samudio mucho gusto\n"
     ]
    }
   ],
   "source": [
    "\n",
    "nombre = \"Matias\"\n",
    "apellido = \"Samudio\"\n",
    "print(f\"Hola, soy {nombre} {apellido} mucho gusto\")\n"
   ]
  },
  {
   "cell_type": "code",
   "execution_count": null,
   "id": "595225e3",
   "metadata": {},
   "outputs": [
    {
     "name": "stdout",
     "output_type": "stream",
     "text": [
      "9\n"
     ]
    }
   ],
   "source": [
    "#nombre = input(\"Cual es tu nombre?\")\n",
    "#print(nombre)\n",
    "\n",
    "numero1 = input('dame un numero')\n",
    "numero2 = input('dame otro valor')\n",
    "sume = int(numero1) + int(numero2)\n",
    "print(sume)"
   ]
  },
  {
   "cell_type": "code",
   "execution_count": 60,
   "id": "5d8fa6c8",
   "metadata": {},
   "outputs": [
    {
     "name": "stdout",
     "output_type": "stream",
     "text": [
      "6\n"
     ]
    }
   ],
   "source": [
    "# challenge 3\n",
    "#Solicitar al usuario ingresar dos números y almacenarlos en dos variables. Luego, imprimir la suma de los dos números.\n",
    "numero1 = int(input('Dame un Numero'))\n",
    "numero2 = int(input('Dame otro numero'))\n",
    "suma = numero1 + numero2\n",
    "print(suma)\n"
   ]
  },
  {
   "cell_type": "code",
   "execution_count": 69,
   "id": "a98a8675",
   "metadata": {},
   "outputs": [
    {
     "name": "stdout",
     "output_type": "stream",
     "text": [
      "abrir el pan\n",
      "poner le jamon\n",
      "poner el queso\n",
      "cerrar el pan\n",
      "listo\n"
     ]
    }
   ],
   "source": [
    "def preparar_chanwi():\n",
    "    print('abrir el pan')\n",
    "    print('poner le jamon')\n",
    "    print('poner el queso')\n",
    "    print('cerrar el pan')\n",
    "    print('listo')\n",
    "preparar_chanwi()"
   ]
  },
  {
   "cell_type": "code",
   "execution_count": 78,
   "id": "5cc85983",
   "metadata": {},
   "outputs": [
    {
     "name": "stdout",
     "output_type": "stream",
     "text": [
      "Tener moto\n",
      "Colocarse implementos de seguridad\n",
      "Encender la Moto\n",
      "Calentar el motor\n",
      "Verificar que todo funcione correctamente\n",
      "Ir al Punto deseado\n",
      "Apagar la moto\n",
      "Asegurar la moto (acordate que vivis en paraguay)\n",
      "Listo\n",
      "Tener moto\n",
      "Colocarse implementos de seguridad\n",
      "Encender la Moto\n",
      "Calentar el motor\n",
      "Verificar que todo funcione correctamente\n",
      "Ir al Punto deseado\n",
      "Apagar la moto\n",
      "Asegurar la moto (acordate que vivis en paraguay)\n",
      "Listo\n",
      "Tener moto\n",
      "Colocarse implementos de seguridad\n",
      "Encender la Moto\n",
      "Calentar el motor\n",
      "Verificar que todo funcione correctamente\n",
      "Ir al Punto deseado\n",
      "Apagar la moto\n",
      "Asegurar la moto (acordate que vivis en paraguay)\n",
      "Listo\n"
     ]
    }
   ],
   "source": [
    "#challenge 4 Crear una función de un proceso que se les ocurra que tenga varios pasos.\n",
    "#Ejecutar la función 3 veces.\n",
    "\n",
    "\n",
    "def como_andar_en_moto():\n",
    "    print('Tener moto')\n",
    "    print('Colocarse implementos de seguridad')\n",
    "    print('Encender la Moto')\n",
    "    print('Calentar el motor')\n",
    "    print('Verificar que todo funcione correctamente')\n",
    "    print('Ir al Punto deseado')\n",
    "    print('Apagar la moto')\n",
    "    print('Asegurar la moto (acordate que vivis en paraguay)')\n",
    "    print(\"Listo\")\n",
    "\n",
    "como_andar_en_moto()\n",
    "                    \n",
    "como_andar_en_moto()\n",
    "\n",
    "como_andar_en_moto()    "
   ]
  },
  {
   "cell_type": "code",
   "execution_count": null,
   "id": "d534d009",
   "metadata": {},
   "outputs": [
    {
     "name": "stdout",
     "output_type": "stream",
     "text": [
      "abrir el pan\n",
      "Agregar Huevo\n",
      "cerrar el pan\n",
      "listo\n"
     ]
    }
   ],
   "source": [
    "#definiciones de funciones PARAMETROS\n",
    "def preparar_chanwi(ingrediente):\n",
    "    print('abrir el pan')\n",
    "    print(f'Agregar {ingrediente}')\n",
    "    print('cerrar el pan')\n",
    "    print('listo')\n",
    "preparar_chanwi('Huevo')  \n",
    "\n"
   ]
  },
  {
   "cell_type": "code",
   "execution_count": null,
   "id": "b05e5d8d",
   "metadata": {},
   "outputs": [
    {
     "name": "stdout",
     "output_type": "stream",
     "text": [
      "Cuales son sus caracteristicas?\n",
      "Sus caracteristicas disponiblesson full hd 2k, smart, Oled, Pantalla tactil\n"
     ]
    }
   ],
   "source": [
    "#challenge 5\n",
    "#escribir una funcion que nos pegunte la caracteristica de un elemento a comprar y que esta funcion imprima el elemento con sus caracteristicas\n",
    "\n",
    "def comprar_una_tele(caracteristicas):\n",
    "    print('Cuales son sus caracteristicas?')\n",
    "    print(f'Sus caracteristicas disponibles{caracteristicas}')\n",
    "comprar_una_tele('son full hd 2k, smart, Oled, Pantalla tactil')"
   ]
  },
  {
   "cell_type": "code",
   "execution_count": 90,
   "id": "923e47b0",
   "metadata": {},
   "outputs": [
    {
     "name": "stdout",
     "output_type": "stream",
     "text": [
      "Cuales son sus caracteristicas?\n",
      "calidad de imagen es full hd 2k\n",
      "La tele essmart tv\n",
      "la tele tiene una pantallaoled con pantalla tactil\n"
     ]
    }
   ],
   "source": [
    "#challenge 5\n",
    "#escribir una funcion que nos pegunte la caracteristica de un elemento a comprar y que esta funcion imprima el elemento con sus caracteristicas\n",
    "\n",
    "def comprar_una_tele(calidad_imagen, tipo, pantalla,):\n",
    "    print('Cuales son sus caracteristicas?')\n",
    "    print(f'calidad de imagen es {calidad_imagen}')\n",
    "    print(f'La tele es{tipo}')\n",
    "    print(f'la tele tiene una pantalla{pantalla}')\n",
    "comprar_una_tele(input('Cual es la calidad de imagen'), input('Que tipo de Tele es'), input('Que tipo de pantalla tiene'))"
   ]
  },
  {
   "cell_type": "code",
   "execution_count": 93,
   "id": "11a7131b",
   "metadata": {},
   "outputs": [
    {
     "name": "stdout",
     "output_type": "stream",
     "text": [
      "estoy cocinando carne\n"
     ]
    }
   ],
   "source": [
    "def preparar_food():\n",
    "    ingrediente = 'carne'\n",
    "    print(f'estoy cocinando {ingrediente}')\n",
    "preparar_food()"
   ]
  },
  {
   "cell_type": "code",
   "execution_count": 94,
   "id": "015697dc",
   "metadata": {},
   "outputs": [
    {
     "name": "stdout",
     "output_type": "stream",
     "text": [
      "estoy cocinando carne\n"
     ]
    }
   ],
   "source": [
    "ingrediente = 'Pollo'\n",
    "preparar_food()"
   ]
  }
 ],
 "metadata": {
  "kernelspec": {
   "display_name": ".venv",
   "language": "python",
   "name": "python3"
  },
  "language_info": {
   "codemirror_mode": {
    "name": "ipython",
    "version": 3
   },
   "file_extension": ".py",
   "mimetype": "text/x-python",
   "name": "python",
   "nbconvert_exporter": "python",
   "pygments_lexer": "ipython3",
   "version": "3.13.3"
  }
 },
 "nbformat": 4,
 "nbformat_minor": 5
}
