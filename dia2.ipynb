{
 "cells": [
  {
   "cell_type": "code",
   "execution_count": 1,
   "id": "af6b80c5",
   "metadata": {},
   "outputs": [
    {
     "name": "stdout",
     "output_type": "stream",
     "text": [
      "Buen Dia Mati\n"
     ]
    }
   ],
   "source": [
    "def saludo_bienvenida(nombre):\n",
    "    print(f'Buen Dia {nombre}')\n",
    "saludo_bienvenida(input('cual es tu nombre?'))\n"
   ]
  },
  {
   "cell_type": "markdown",
   "id": "6e585bc0",
   "metadata": {},
   "source": [
    "## Condiciones: Maneja el flujo de la ejecucion de los bloques de codigo\n",
    "## operdadores de comparacion \n",
    "# >= mayor o igual\n",
    "# <= menor o igual\n",
    "# > mayor\n",
    "# < menor\n",
    "# == es igual\n",
    "# != diferente\n",
    "## Palabras claves\n",
    "# if (si)\n",
    "# elif (sino si)\n",
    "# else (sino)\n",
    "## Operadores logicos\n",
    "# nos permite combinar condiciones\n",
    "## tipo de operadores\n",
    "# and(y) se cumple si ambas son verdaderas\n",
    "# or (o) se cumple si alguna de las condiciones son verdaderas\n",
    "# not (no) niega condicio: si es verdadera la convierte en falsa y al reves\n",
    "## bucles: while nos permite ejecutar una serie de intrucciones mientras una condicion se cumpla al momento que la condicion deje de ser cierta el bucle va a parar\n",
    "## LISTAS \n",
    "# una lista es una agrupacion de objetos, que pueden ser  de distintos tipos de datos la construimos colocando los elemento entre corchetes[] y seprarlos\n",
    "## bucle interactivo cuando queremos repetir una accion una cierta cantidad de veces, podemos utilizar un bucle iteractivo\n",
    "# iteraciones: una accion repertida una cierta cantidad de veces pero en cada repeticion tiene ne cuenta el valor anterior"
   ]
  },
  {
   "cell_type": "code",
   "execution_count": 5,
   "id": "a258cffb",
   "metadata": {},
   "outputs": [
    {
     "name": "stdout",
     "output_type": "stream",
     "text": [
      "Es menor, no podes entrar\n"
     ]
    }
   ],
   "source": [
    "edad = 13\n",
    "if edad < 18:\n",
    "    print (\"Es menor, no podes entrar\")\n",
    "else:\n",
    "    print('Es mayor de edad, podes entrar')\n"
   ]
  },
  {
   "cell_type": "code",
   "execution_count": null,
   "id": "c930b3f6",
   "metadata": {},
   "outputs": [
    {
     "name": "stdout",
     "output_type": "stream",
     "text": [
      "Estudiante\n"
     ]
    }
   ],
   "source": [
    "edad_laboral =\n",
    "if edad_laboral <18:\n",
    "    print('Estudiante')\n",
    "elif edad_laboral >65:\n",
    "    print('Jubilado')\n",
    "else:\n",
    "    print('Trabajador')"
   ]
  },
  {
   "cell_type": "code",
   "execution_count": 34,
   "id": "50d46f61",
   "metadata": {},
   "outputs": [
    {
     "name": "stdout",
     "output_type": "stream",
     "text": [
      "Podes tomar pero no comprar\n"
     ]
    }
   ],
   "source": [
    "## Primer challenge dia 2 penguin\n",
    "edad_para_beber = int(input('Cual es tu edad?'))\n",
    "if edad_para_beber <18:\n",
    "    print('Juguito nomas kp')\n",
    "elif edad_para_beber <21:\n",
    "    print('Podes tomar pero no comprar')\n",
    "else:\n",
    "    print('Hace lo que se te cante')"
   ]
  },
  {
   "cell_type": "code",
   "execution_count": 38,
   "id": "9bfc7c02",
   "metadata": {},
   "outputs": [
    {
     "name": "stdout",
     "output_type": "stream",
     "text": [
      "Desempleado\n"
     ]
    }
   ],
   "source": [
    "edad_personas = 60\n",
    "trabaja = False\n",
    "\n",
    "if edad_personas < 18:\n",
    "    print('Estudiante')\n",
    "elif edad_personas < 65 and trabaja == True:\n",
    "    print('Activa laboralmente')\n",
    "elif edad_personas < 65 and trabaja == False:\n",
    "    print('Desempleado')\n",
    "else:\n",
    "    print('Jubilado')\n"
   ]
  },
  {
   "cell_type": "code",
   "execution_count": null,
   "id": "0a9ec09b",
   "metadata": {},
   "outputs": [],
   "source": [
    "def chequear_edad (edad_personas, trabaja):\n",
    "    if edad_personas <18:\n",
    "        print('estudiante')\n",
    "    elif edad_personas <65 and  trabaja == True:\n",
    "        print('Activo laboralmente')\n",
    "    elif edad_personas < 65 and trabaja == False:\n",
    "        print('Desempleado')\n",
    "    else:\n",
    "        print('jubilado')\n",
    "\n",
    "    \n"
   ]
  },
  {
   "cell_type": "markdown",
   "id": "568d4d66",
   "metadata": {},
   "source": [
    "Escribir un programa en el que se pregunte al usuario por una temperatura (en grados Celsius), imprima la temperatura escrita, y luego clasificar la temperatura ingresada en los siguientes niveles:\n",
    "\n",
    "Entre -10 y 18 grados, que imprima \"Fresquete\".\n",
    "Entre 19 y 30 grados, que imprima \"Calor'i\".\n",
    "Entre 31 y 45 grados, que imprima \"Hakuuuuuu\".\n",
    "Para todo lo demás, imprimir \"Ñamano mba'e!\"."
   ]
  },
  {
   "cell_type": "code",
   "execution_count": 15,
   "id": "fa408a72",
   "metadata": {},
   "outputs": [
    {
     "name": "stdout",
     "output_type": "stream",
     "text": [
      "hakurooo\n"
     ]
    }
   ],
   "source": [
    "temperatura =int(input('cual es la temperatura?'))\n",
    "\n",
    "if temperatura >= -10 and temperatura <=18:\n",
    "    print('refreca`i')\n",
    "elif temperatura >=19 and temperatura <=30:\n",
    "    print('Calor`i')\n",
    "elif temperatura >= 31 and temperatura <= 45:\n",
    "    print('hakurooo')\n",
    "else:\n",
    "    print('vamo a morirno mba`e')\n",
    "\n",
    "\n"
   ]
  },
  {
   "cell_type": "code",
   "execution_count": null,
   "id": "f3fd0075",
   "metadata": {},
   "outputs": [
    {
     "name": "stdout",
     "output_type": "stream",
     "text": [
      "3\n",
      "4\n",
      "6\n",
      "10\n",
      "Numero correcto\n",
      "Numero\n"
     ]
    }
   ],
   "source": [
    "numero_a_adivinar = 10\n",
    "numero = 5\n",
    "while numero != numero_a_adivinar:\n",
    "    numero = int(input('Introducce numero'))\n",
    "    print(numero)\n",
    "print('Numero correcto')\n",
    "print(numero)\n"
   ]
  },
  {
   "cell_type": "code",
   "execution_count": 29,
   "id": "17f028f5",
   "metadata": {},
   "outputs": [
    {
     "name": "stdout",
     "output_type": "stream",
     "text": [
      "Numero incorrecto\n",
      "Numero incorrecto\n",
      "Numero incorrecto\n",
      "Numero incorrecto\n"
     ]
    },
    {
     "ename": "KeyboardInterrupt",
     "evalue": "Interrupted by user",
     "output_type": "error",
     "traceback": [
      "\u001b[31m---------------------------------------------------------------------------\u001b[39m",
      "\u001b[31mKeyboardInterrupt\u001b[39m                         Traceback (most recent call last)",
      "\u001b[36mCell\u001b[39m\u001b[36m \u001b[39m\u001b[32mIn[29]\u001b[39m\u001b[32m, line 2\u001b[39m\n\u001b[32m      1\u001b[39m \u001b[38;5;28;01mwhile\u001b[39;00m \u001b[38;5;28;01mTrue\u001b[39;00m:\n\u001b[32m----> \u001b[39m\u001b[32m2\u001b[39m     numero_ingresado = \u001b[38;5;28mint\u001b[39m(\u001b[38;5;28;43minput\u001b[39;49m\u001b[43m(\u001b[49m\u001b[33;43m'\u001b[39;49m\u001b[33;43mintroduce un numero\u001b[39;49m\u001b[33;43m'\u001b[39;49m\u001b[43m)\u001b[49m)\n\u001b[32m      3\u001b[39m     \u001b[38;5;28;01mif\u001b[39;00m numero_ingresado == numero:\n\u001b[32m      4\u001b[39m         \u001b[38;5;28mprint\u001b[39m(\u001b[33m'\u001b[39m\u001b[33mEl numero es correcto\u001b[39m\u001b[33m'\u001b[39m)\n",
      "\u001b[36mFile \u001b[39m\u001b[32mc:\\Users\\asus 2025\\OneDrive\\Desktop\\Clases_botcamp\\.venv\\Lib\\site-packages\\ipykernel\\kernelbase.py:1282\u001b[39m, in \u001b[36mKernel.raw_input\u001b[39m\u001b[34m(self, prompt)\u001b[39m\n\u001b[32m   1280\u001b[39m     msg = \u001b[33m\"\u001b[39m\u001b[33mraw_input was called, but this frontend does not support input requests.\u001b[39m\u001b[33m\"\u001b[39m\n\u001b[32m   1281\u001b[39m     \u001b[38;5;28;01mraise\u001b[39;00m StdinNotImplementedError(msg)\n\u001b[32m-> \u001b[39m\u001b[32m1282\u001b[39m \u001b[38;5;28;01mreturn\u001b[39;00m \u001b[38;5;28;43mself\u001b[39;49m\u001b[43m.\u001b[49m\u001b[43m_input_request\u001b[49m\u001b[43m(\u001b[49m\n\u001b[32m   1283\u001b[39m \u001b[43m    \u001b[49m\u001b[38;5;28;43mstr\u001b[39;49m\u001b[43m(\u001b[49m\u001b[43mprompt\u001b[49m\u001b[43m)\u001b[49m\u001b[43m,\u001b[49m\n\u001b[32m   1284\u001b[39m \u001b[43m    \u001b[49m\u001b[38;5;28;43mself\u001b[39;49m\u001b[43m.\u001b[49m\u001b[43m_parent_ident\u001b[49m\u001b[43m[\u001b[49m\u001b[33;43m\"\u001b[39;49m\u001b[33;43mshell\u001b[39;49m\u001b[33;43m\"\u001b[39;49m\u001b[43m]\u001b[49m\u001b[43m,\u001b[49m\n\u001b[32m   1285\u001b[39m \u001b[43m    \u001b[49m\u001b[38;5;28;43mself\u001b[39;49m\u001b[43m.\u001b[49m\u001b[43mget_parent\u001b[49m\u001b[43m(\u001b[49m\u001b[33;43m\"\u001b[39;49m\u001b[33;43mshell\u001b[39;49m\u001b[33;43m\"\u001b[39;49m\u001b[43m)\u001b[49m\u001b[43m,\u001b[49m\n\u001b[32m   1286\u001b[39m \u001b[43m    \u001b[49m\u001b[43mpassword\u001b[49m\u001b[43m=\u001b[49m\u001b[38;5;28;43;01mFalse\u001b[39;49;00m\u001b[43m,\u001b[49m\n\u001b[32m   1287\u001b[39m \u001b[43m\u001b[49m\u001b[43m)\u001b[49m\n",
      "\u001b[36mFile \u001b[39m\u001b[32mc:\\Users\\asus 2025\\OneDrive\\Desktop\\Clases_botcamp\\.venv\\Lib\\site-packages\\ipykernel\\kernelbase.py:1325\u001b[39m, in \u001b[36mKernel._input_request\u001b[39m\u001b[34m(self, prompt, ident, parent, password)\u001b[39m\n\u001b[32m   1322\u001b[39m \u001b[38;5;28;01mexcept\u001b[39;00m \u001b[38;5;167;01mKeyboardInterrupt\u001b[39;00m:\n\u001b[32m   1323\u001b[39m     \u001b[38;5;66;03m# re-raise KeyboardInterrupt, to truncate traceback\u001b[39;00m\n\u001b[32m   1324\u001b[39m     msg = \u001b[33m\"\u001b[39m\u001b[33mInterrupted by user\u001b[39m\u001b[33m\"\u001b[39m\n\u001b[32m-> \u001b[39m\u001b[32m1325\u001b[39m     \u001b[38;5;28;01mraise\u001b[39;00m \u001b[38;5;167;01mKeyboardInterrupt\u001b[39;00m(msg) \u001b[38;5;28;01mfrom\u001b[39;00m\u001b[38;5;250m \u001b[39m\u001b[38;5;28;01mNone\u001b[39;00m\n\u001b[32m   1326\u001b[39m \u001b[38;5;28;01mexcept\u001b[39;00m \u001b[38;5;167;01mException\u001b[39;00m:\n\u001b[32m   1327\u001b[39m     \u001b[38;5;28mself\u001b[39m.log.warning(\u001b[33m\"\u001b[39m\u001b[33mInvalid Message:\u001b[39m\u001b[33m\"\u001b[39m, exc_info=\u001b[38;5;28;01mTrue\u001b[39;00m)\n",
      "\u001b[31mKeyboardInterrupt\u001b[39m: Interrupted by user"
     ]
    }
   ],
   "source": [
    "while True:\n",
    "    numero_ingresado = int(input('introduce un numero'))\n",
    "    if numero_ingresado == numero:\n",
    "        print('El numero es correcto')\n",
    "        break\n",
    "    else:\n",
    "        print('Numero incorrecto')"
   ]
  },
  {
   "cell_type": "code",
   "execution_count": 37,
   "id": "6a140fde",
   "metadata": {},
   "outputs": [
    {
     "name": "stdout",
     "output_type": "stream",
     "text": [
      "Intente de nuevo\n",
      "Intente de nuevo\n",
      "Intente de nuevo\n",
      "Intente de nuevo\n",
      "Contrasena Correcta te ganaste una empa\n"
     ]
    }
   ],
   "source": [
    "## challenge Challenge 🤺 - 20m\n",
    "#Escribir un programa que almacene una contraseña en una variable, y pregunte al usuario por la contraseña hasta que introduzca la contraseña correcta.\n",
    "#Cuando el usuario ingrese la contrasena correcta, imprimir un mensaje secreto.\n",
    "contra_correcta =123456\n",
    "\n",
    "while True: #La variable 'intento' tiene que estar dentro del bucle\n",
    "    intento = int(input(\"Ingrese Contrasena\"))\n",
    "    if intento == contra_correcta:\n",
    "        print('Contrasena Correcta te ganaste una empa')\n",
    "        break\n",
    "    else:\n",
    "        print('Intente de nuevo')"
   ]
  },
  {
   "cell_type": "code",
   "execution_count": null,
   "id": "e7eca252",
   "metadata": {},
   "outputs": [],
   "source": [
    "lista_frutas = ['manzana','pera','banana']#indice se cuenta desde el cero posicion se cuenta desde el 1\n",
    "lista_bool = [True, False, True]\n",
    "lista_numeros = [1, 2, 3, 4]\n"
   ]
  },
  {
   "cell_type": "code",
   "execution_count": 44,
   "id": "d23b2556",
   "metadata": {},
   "outputs": [
    {
     "name": "stdout",
     "output_type": "stream",
     "text": [
      "['Rolo', 'Lujan', 'Rodi', 'Luna', 'Mosca']\n",
      "['Rolo', 'Lujan', 'Rodi', 'Luna', 'Mosca', 'Jose']\n",
      "['Rolo', 'Lujan', 'Diego', 'Luna', 'Mosca', 'Jose']\n",
      "['Rolo', 'Lujan', 'Luna', 'Mosca', 'Jose']\n"
     ]
    }
   ],
   "source": [
    "## Challenge  crear una lista de 5 elementos. luego seguir los siguiente pasos\n",
    "# agregar un elemento al final de la lista\n",
    "# Modificar el segunto elemento\n",
    "# eliminar le tercer elemento\n",
    "lista_trabajo = ['Rolo', 'Lujan', 'Rodi', 'Luna', 'Mosca']\n",
    "print(lista_trabajo)\n",
    "lista_trabajo.append('Jose')\n",
    "print(lista_trabajo)\n",
    "lista_trabajo[2]='Diego'\n",
    "print(lista_trabajo)\n",
    "lista_trabajo.pop(2)\n",
    "print(lista_trabajo)"
   ]
  },
  {
   "cell_type": "code",
   "execution_count": 45,
   "id": "85ea9ff1",
   "metadata": {},
   "outputs": [
    {
     "name": "stdout",
     "output_type": "stream",
     "text": [
      "1\n",
      "2\n",
      "3\n",
      "4\n",
      "5\n",
      "6\n",
      "7\n"
     ]
    }
   ],
   "source": [
    "dias_de_la_semana = [1,2,3,4,5,6,7]\n",
    "for i in dias_de_la_semana:\n",
    "    print(i)"
   ]
  },
  {
   "cell_type": "code",
   "execution_count": 47,
   "id": "e8d2135b",
   "metadata": {},
   "outputs": [
    {
     "name": "stdout",
     "output_type": "stream",
     "text": [
      "[1, 2, 3, 4, 5, 6, 7]\n",
      "[1, 2, 3, 4, 5, 6, 7]\n",
      "[1, 2, 3, 4, 5, 6, 7]\n",
      "[1, 2, 3, 4, 5, 6, 7]\n",
      "[1, 2, 3, 4, 5, 6, 7]\n"
     ]
    }
   ],
   "source": [
    "for i in range(5):\n",
    "    print(dias_de_la_semana)"
   ]
  },
  {
   "cell_type": "code",
   "execution_count": 49,
   "id": "bb3c1aa8",
   "metadata": {},
   "outputs": [
    {
     "ename": "NameError",
     "evalue": "name 'lista_frutas' is not defined",
     "output_type": "error",
     "traceback": [
      "\u001b[31m---------------------------------------------------------------------------\u001b[39m",
      "\u001b[31mNameError\u001b[39m                                 Traceback (most recent call last)",
      "\u001b[36mCell\u001b[39m\u001b[36m \u001b[39m\u001b[32mIn[49]\u001b[39m\u001b[32m, line 1\u001b[39m\n\u001b[32m----> \u001b[39m\u001b[32m1\u001b[39m \u001b[38;5;28;01mfor\u001b[39;00m articulos \u001b[38;5;129;01min\u001b[39;00m \u001b[43mlista_frutas\u001b[49m:\n\u001b[32m      2\u001b[39m     \u001b[38;5;28mprint\u001b[39m(articulos)\n",
      "\u001b[31mNameError\u001b[39m: name 'lista_frutas' is not defined"
     ]
    }
   ],
   "source": [
    "for articulos in lista_frutas:\n",
    "    print(articulos)"
   ]
  },
  {
   "cell_type": "code",
   "execution_count": 76,
   "id": "00fdb2c8",
   "metadata": {},
   "outputs": [
    {
     "name": "stdout",
     "output_type": "stream",
     "text": [
      "0 * 2 = 0\n",
      "1 * 2 = 2\n",
      "2 * 2 = 4\n",
      "3 * 2 = 6\n",
      "4 * 2 = 8\n",
      "5 * 2 = 10\n",
      "6 * 2 = 12\n",
      "7 * 2 = 14\n",
      "8 * 2 = 16\n",
      "9 * 2 = 18\n",
      "10 * 2 = 20\n"
     ]
    }
   ],
   "source": [
    "## Escribir un programa que itere un en rango de 10 veces. por cada itercion multiplicar el iterador *2 e imprimir el resultado\n",
    "\n",
    "for numero in range(11):\n",
    "    #print(numero)\n",
    "    resultado = numero * 2\n",
    "    print(f'{numero} * 2 = {resultado}')"
   ]
  },
  {
   "cell_type": "code",
   "execution_count": null,
   "id": "369ef981",
   "metadata": {},
   "outputs": [],
   "source": [
    "## CHALLENGE recorrer los elementos de una lista de marcas e imprimir cada marca si tiene 6 letras o mas\n",
    "# crear una lista de marcas\n",
    "#recorrer la lista de marcas\n",
    "#crear una condicion si la palabra tiene 6 caracteres imprimir \n"
   ]
  },
  {
   "cell_type": "code",
   "execution_count": 92,
   "id": "0b2f2002",
   "metadata": {},
   "outputs": [
    {
     "name": "stdout",
     "output_type": "stream",
     "text": [
      "cocacola\n",
      "netflix\n",
      "samsung\n"
     ]
    }
   ],
   "source": [
    "lista_d_marcas = ['apple', 'Lego', 'cocacola', 'netflix', 'samsung', 'pixar']\n",
    "for marca in lista_d_marcas:\n",
    "        if len(marca) >= 6:\n",
    "                print(marca)\n",
    "                              \n"
   ]
  },
  {
   "cell_type": "code",
   "execution_count": 94,
   "id": "53abf9ae",
   "metadata": {},
   "outputs": [
    {
     "name": "stdout",
     "output_type": "stream",
     "text": [
      "s\n",
      "a\n",
      "l\n",
      "u\n",
      "d\n",
      "o\n"
     ]
    }
   ],
   "source": [
    "for letra in \"saludo\":\n",
    "    print(letra)"
   ]
  },
  {
   "cell_type": "code",
   "execution_count": null,
   "id": "8655afe0",
   "metadata": {},
   "outputs": [],
   "source": [
    "#pedir al usuario que ingrese una frase\n",
    "#imprimir un mensaje cada vez que se encuentre la letra 'O'"
   ]
  },
  {
   "cell_type": "code",
   "execution_count": 114,
   "id": "231c2ba5",
   "metadata": {},
   "outputs": [
    {
     "name": "stdout",
     "output_type": "stream",
     "text": [
      "prohibido usar la O\n",
      "prohibido usar la O\n",
      "prohibido usar la O\n"
     ]
    }
   ],
   "source": [
    "Ingreso_frase= input('Ingrese su frase')\n",
    "caracteres = len(i)\n",
    "\n",
    "for i in Ingreso_frase:\n",
    "    if i==\"o\" or i == 'O':\n",
    "        print ('prohibido usar la O')\n"
   ]
  },
  {
   "cell_type": "code",
   "execution_count": null,
   "id": "38efd4fa",
   "metadata": {},
   "outputs": [],
   "source": [
    "\n"
   ]
  }
 ],
 "metadata": {
  "kernelspec": {
   "display_name": ".venv",
   "language": "python",
   "name": "python3"
  },
  "language_info": {
   "codemirror_mode": {
    "name": "ipython",
    "version": 3
   },
   "file_extension": ".py",
   "mimetype": "text/x-python",
   "name": "python",
   "nbconvert_exporter": "python",
   "pygments_lexer": "ipython3",
   "version": "3.13.3"
  }
 },
 "nbformat": 4,
 "nbformat_minor": 5
}
